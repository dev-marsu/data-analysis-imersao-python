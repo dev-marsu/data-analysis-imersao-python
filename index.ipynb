{
 "cells": [
  {
   "cell_type": "markdown",
   "metadata": {},
   "source": [
    "# Analisando Dados com Python\n",
    "\n",
    "### Case - Cancelamento de Clientes\n",
    "\n",
    "*Você foi contratado com mais de 800 mil clientes para um projeto de Dados. Recentemente a empresa percebeu que da sua base total de clientes, a maioria são de clientes inativos, ou seja, que cancelaram o serviço.*\n",
    "\n",
    "*Precisando melhorar seus resultados, ela quer entender o que levou os clientes a cancelarem o serviço e quais as ações mais eficientes para mitigar esses problemas.*"
   ]
  },
  {
   "cell_type": "code",
   "execution_count": null,
   "metadata": {},
   "outputs": [],
   "source": [
    "# Passo 1: Interpretar a base de dados\n",
    "# Passo 2: Visualizar a base de dados\n",
    "    # Entender quais informações estão disponíveis\n",
    "    # Identificar os erros da base de dados\n",
    "# Passo 3: Tratamento de dados - Corrigir erros da base de dados\n",
    "# Passo 4: Analisar o número de cancelamentos em relação ao todo\n",
    "# Passo 5: Analisar o motivo do cancelamento dos clientes (e sugerir ações que resolvam estes problemas)"
   ]
  }
 ],
 "metadata": {
  "language_info": {
   "name": "python"
  }
 },
 "nbformat": 4,
 "nbformat_minor": 2
}
